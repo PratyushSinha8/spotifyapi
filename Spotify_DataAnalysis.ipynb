{
  "nbformat": 4,
  "nbformat_minor": 0,
  "metadata": {
    "colab": {
      "name": "Spotify_DataAnalysis.ipynb",
      "provenance": [],
      "collapsed_sections": []
    },
    "kernelspec": {
      "name": "python3",
      "display_name": "Python 3"
    },
    "language_info": {
      "name": "python"
    }
  },
  "cells": [
    {
      "cell_type": "code",
      "metadata": {
        "id": "nGYDET7mbDfu"
      },
      "source": [
        "import pandas as pd\n",
        "import sklearn\n",
        "from google.colab import files\n",
        "\n",
        "\n"
      ],
      "execution_count": 1,
      "outputs": []
    },
    {
      "cell_type": "code",
      "metadata": {
        "id": "kpaOUrdDWR_r"
      },
      "source": [
        "df= pd.read_csv(\"indie.csv\") #holds feature values\n",
        "df2=pd.read_csv(\"indie_d.csv\") #holds dates"
      ],
      "execution_count": 2,
      "outputs": []
    },
    {
      "cell_type": "code",
      "metadata": {
        "colab": {
          "base_uri": "https://localhost:8080/",
          "height": 34
        },
        "id": "txKNHVzjeTe8",
        "outputId": "297fef49-b80a-4faf-cf7e-20f40bdfed2f"
      },
      "source": [
        ""
      ],
      "execution_count": null,
      "outputs": [
        {
          "output_type": "display_data",
          "data": {
            "application/javascript": [
              "\n",
              "    async function download(id, filename, size) {\n",
              "      if (!google.colab.kernel.accessAllowed) {\n",
              "        return;\n",
              "      }\n",
              "      const div = document.createElement('div');\n",
              "      const label = document.createElement('label');\n",
              "      label.textContent = `Downloading \"${filename}\": `;\n",
              "      div.appendChild(label);\n",
              "      const progress = document.createElement('progress');\n",
              "      progress.max = size;\n",
              "      div.appendChild(progress);\n",
              "      document.body.appendChild(div);\n",
              "\n",
              "      const buffers = [];\n",
              "      let downloaded = 0;\n",
              "\n",
              "      const channel = await google.colab.kernel.comms.open(id);\n",
              "      // Send a message to notify the kernel that we're ready.\n",
              "      channel.send({})\n",
              "\n",
              "      for await (const message of channel.messages) {\n",
              "        // Send a message to notify the kernel that we're ready.\n",
              "        channel.send({})\n",
              "        if (message.buffers) {\n",
              "          for (const buffer of message.buffers) {\n",
              "            buffers.push(buffer);\n",
              "            downloaded += buffer.byteLength;\n",
              "            progress.value = downloaded;\n",
              "          }\n",
              "        }\n",
              "      }\n",
              "      const blob = new Blob(buffers, {type: 'application/binary'});\n",
              "      const a = document.createElement('a');\n",
              "      a.href = window.URL.createObjectURL(blob);\n",
              "      a.download = filename;\n",
              "      div.appendChild(a);\n",
              "      a.click();\n",
              "      div.remove();\n",
              "    }\n",
              "  "
            ],
            "text/plain": [
              "<IPython.core.display.Javascript object>"
            ]
          },
          "metadata": {
            "tags": []
          }
        },
        {
          "output_type": "display_data",
          "data": {
            "application/javascript": [
              "download(\"download_18f0df70-92fd-4253-88df-4429c61c0184\", \"indie.csv\", 300983)"
            ],
            "text/plain": [
              "<IPython.core.display.Javascript object>"
            ]
          },
          "metadata": {
            "tags": []
          }
        },
        {
          "output_type": "display_data",
          "data": {
            "application/javascript": [
              "\n",
              "    async function download(id, filename, size) {\n",
              "      if (!google.colab.kernel.accessAllowed) {\n",
              "        return;\n",
              "      }\n",
              "      const div = document.createElement('div');\n",
              "      const label = document.createElement('label');\n",
              "      label.textContent = `Downloading \"${filename}\": `;\n",
              "      div.appendChild(label);\n",
              "      const progress = document.createElement('progress');\n",
              "      progress.max = size;\n",
              "      div.appendChild(progress);\n",
              "      document.body.appendChild(div);\n",
              "\n",
              "      const buffers = [];\n",
              "      let downloaded = 0;\n",
              "\n",
              "      const channel = await google.colab.kernel.comms.open(id);\n",
              "      // Send a message to notify the kernel that we're ready.\n",
              "      channel.send({})\n",
              "\n",
              "      for await (const message of channel.messages) {\n",
              "        // Send a message to notify the kernel that we're ready.\n",
              "        channel.send({})\n",
              "        if (message.buffers) {\n",
              "          for (const buffer of message.buffers) {\n",
              "            buffers.push(buffer);\n",
              "            downloaded += buffer.byteLength;\n",
              "            progress.value = downloaded;\n",
              "          }\n",
              "        }\n",
              "      }\n",
              "      const blob = new Blob(buffers, {type: 'application/binary'});\n",
              "      const a = document.createElement('a');\n",
              "      a.href = window.URL.createObjectURL(blob);\n",
              "      a.download = filename;\n",
              "      div.appendChild(a);\n",
              "      a.click();\n",
              "      div.remove();\n",
              "    }\n",
              "  "
            ],
            "text/plain": [
              "<IPython.core.display.Javascript object>"
            ]
          },
          "metadata": {
            "tags": []
          }
        },
        {
          "output_type": "display_data",
          "data": {
            "application/javascript": [
              "download(\"download_af874054-8dcc-4818-bbea-d7fa40ffb7ef\", \"indie_d.csv\", 38150)"
            ],
            "text/plain": [
              "<IPython.core.display.Javascript object>"
            ]
          },
          "metadata": {
            "tags": []
          }
        }
      ]
    },
    {
      "cell_type": "code",
      "metadata": {
        "id": "Pe_sMUENNwp5"
      },
      "source": [
        "import matplotlib.pyplot as plt\n",
        "import datetime\n",
        "import seaborn as sns\n",
        "import numpy as np\n",
        "import matplotlib as mpl\n",
        "from matplotlib.cm import ScalarMappable"
      ],
      "execution_count": 3,
      "outputs": []
    },
    {
      "cell_type": "code",
      "metadata": {
        "id": "G-Iwy-ZR78VA"
      },
      "source": [
        "#fatal code\n",
        "df2 =df2.iloc[:, 1:]\n",
        "df = df.iloc[:, 1:]"
      ],
      "execution_count": 4,
      "outputs": []
    },
    {
      "cell_type": "code",
      "metadata": {
        "id": "5dcLe69l64xk",
        "colab": {
          "base_uri": "https://localhost:8080/"
        },
        "outputId": "c2520678-1401-43d7-dbc8-2d4d02485147"
      },
      "source": [
        "#Dropping non-matching ids, if any\n",
        "\n",
        "id1= df['id']\n",
        "id2= df2['id']\n",
        "id1[~id1.isin(id2)]\n",
        "\n",
        "#df = df.drop(labels=[542,543,544], axis=0) #Implemented once"
      ],
      "execution_count": 5,
      "outputs": [
        {
          "output_type": "execute_result",
          "data": {
            "text/plain": [
              "Series([], Name: id, dtype: object)"
            ]
          },
          "metadata": {
            "tags": []
          },
          "execution_count": 5
        }
      ]
    },
    {
      "cell_type": "code",
      "metadata": {
        "colab": {
          "base_uri": "https://localhost:8080/",
          "height": 609
        },
        "id": "hHZYeRQtMTZW",
        "outputId": "7da2d62c-0457-4f8a-eec3-4d0ccfc5b0b6"
      },
      "source": [
        "#Merging both the dataframes\n",
        "dataframe_cat= pd.merge(df, df2, on='id')\n",
        "dataframe_cat"
      ],
      "execution_count": 7,
      "outputs": [
        {
          "output_type": "execute_result",
          "data": {
            "text/html": [
              "<div>\n",
              "<style scoped>\n",
              "    .dataframe tbody tr th:only-of-type {\n",
              "        vertical-align: middle;\n",
              "    }\n",
              "\n",
              "    .dataframe tbody tr th {\n",
              "        vertical-align: top;\n",
              "    }\n",
              "\n",
              "    .dataframe thead th {\n",
              "        text-align: right;\n",
              "    }\n",
              "</style>\n",
              "<table border=\"1\" class=\"dataframe\">\n",
              "  <thead>\n",
              "    <tr style=\"text-align: right;\">\n",
              "      <th></th>\n",
              "      <th>acousticness</th>\n",
              "      <th>analysis_url</th>\n",
              "      <th>danceability</th>\n",
              "      <th>duration_ms</th>\n",
              "      <th>energy</th>\n",
              "      <th>id</th>\n",
              "      <th>instrumentalness</th>\n",
              "      <th>key</th>\n",
              "      <th>liveness</th>\n",
              "      <th>loudness</th>\n",
              "      <th>mode</th>\n",
              "      <th>speechiness</th>\n",
              "      <th>tempo</th>\n",
              "      <th>time_signature</th>\n",
              "      <th>track_href</th>\n",
              "      <th>type</th>\n",
              "      <th>uri</th>\n",
              "      <th>valence</th>\n",
              "      <th>release_date</th>\n",
              "    </tr>\n",
              "  </thead>\n",
              "  <tbody>\n",
              "    <tr>\n",
              "      <th>0</th>\n",
              "      <td>0.34000</td>\n",
              "      <td>https://api.spotify.com/v1/audio-analysis/315e...</td>\n",
              "      <td>0.446</td>\n",
              "      <td>365812</td>\n",
              "      <td>0.5450</td>\n",
              "      <td>315eI7UDIy73D3bpdhiVii</td>\n",
              "      <td>0.000000</td>\n",
              "      <td>10</td>\n",
              "      <td>0.0912</td>\n",
              "      <td>-8.934</td>\n",
              "      <td>1</td>\n",
              "      <td>0.0480</td>\n",
              "      <td>160.028</td>\n",
              "      <td>3</td>\n",
              "      <td>https://api.spotify.com/v1/tracks/315eI7UDIy73...</td>\n",
              "      <td>audio_features</td>\n",
              "      <td>spotify:track:315eI7UDIy73D3bpdhiVii</td>\n",
              "      <td>0.4510</td>\n",
              "      <td>2020-10-20</td>\n",
              "    </tr>\n",
              "    <tr>\n",
              "      <th>1</th>\n",
              "      <td>0.00663</td>\n",
              "      <td>https://api.spotify.com/v1/audio-analysis/1CYm...</td>\n",
              "      <td>0.372</td>\n",
              "      <td>417056</td>\n",
              "      <td>0.8100</td>\n",
              "      <td>1CYmT4NcMunPefrjHwCad8</td>\n",
              "      <td>0.205000</td>\n",
              "      <td>4</td>\n",
              "      <td>0.5870</td>\n",
              "      <td>-6.034</td>\n",
              "      <td>1</td>\n",
              "      <td>0.0578</td>\n",
              "      <td>169.936</td>\n",
              "      <td>4</td>\n",
              "      <td>https://api.spotify.com/v1/tracks/1CYmT4NcMunP...</td>\n",
              "      <td>audio_features</td>\n",
              "      <td>spotify:track:1CYmT4NcMunPefrjHwCad8</td>\n",
              "      <td>0.2450</td>\n",
              "      <td>2014-08-01</td>\n",
              "    </tr>\n",
              "    <tr>\n",
              "      <th>2</th>\n",
              "      <td>0.25100</td>\n",
              "      <td>https://api.spotify.com/v1/audio-analysis/6pL3...</td>\n",
              "      <td>0.475</td>\n",
              "      <td>438132</td>\n",
              "      <td>0.5730</td>\n",
              "      <td>6pL3w33i7qd4a0boLxPXWV</td>\n",
              "      <td>0.908000</td>\n",
              "      <td>11</td>\n",
              "      <td>0.0770</td>\n",
              "      <td>-9.450</td>\n",
              "      <td>0</td>\n",
              "      <td>0.0504</td>\n",
              "      <td>137.750</td>\n",
              "      <td>4</td>\n",
              "      <td>https://api.spotify.com/v1/tracks/6pL3w33i7qd4...</td>\n",
              "      <td>audio_features</td>\n",
              "      <td>spotify:track:6pL3w33i7qd4a0boLxPXWV</td>\n",
              "      <td>0.5140</td>\n",
              "      <td>2016-10-11</td>\n",
              "    </tr>\n",
              "    <tr>\n",
              "      <th>3</th>\n",
              "      <td>0.00602</td>\n",
              "      <td>https://api.spotify.com/v1/audio-analysis/5nNR...</td>\n",
              "      <td>0.573</td>\n",
              "      <td>347492</td>\n",
              "      <td>0.8050</td>\n",
              "      <td>5nNRWKhF7fcWaU2Et8jExF</td>\n",
              "      <td>0.047100</td>\n",
              "      <td>11</td>\n",
              "      <td>0.1210</td>\n",
              "      <td>-8.018</td>\n",
              "      <td>1</td>\n",
              "      <td>0.0382</td>\n",
              "      <td>144.969</td>\n",
              "      <td>4</td>\n",
              "      <td>https://api.spotify.com/v1/tracks/5nNRWKhF7fcW...</td>\n",
              "      <td>audio_features</td>\n",
              "      <td>spotify:track:5nNRWKhF7fcWaU2Et8jExF</td>\n",
              "      <td>0.5050</td>\n",
              "      <td>2018-08-16</td>\n",
              "    </tr>\n",
              "    <tr>\n",
              "      <th>4</th>\n",
              "      <td>0.74800</td>\n",
              "      <td>https://api.spotify.com/v1/audio-analysis/0CI1...</td>\n",
              "      <td>0.482</td>\n",
              "      <td>226987</td>\n",
              "      <td>0.5500</td>\n",
              "      <td>0CI1hWyyQJZLuvOugqWKnG</td>\n",
              "      <td>0.560000</td>\n",
              "      <td>1</td>\n",
              "      <td>0.1360</td>\n",
              "      <td>-8.905</td>\n",
              "      <td>1</td>\n",
              "      <td>0.0297</td>\n",
              "      <td>75.001</td>\n",
              "      <td>4</td>\n",
              "      <td>https://api.spotify.com/v1/tracks/0CI1hWyyQJZL...</td>\n",
              "      <td>audio_features</td>\n",
              "      <td>spotify:track:0CI1hWyyQJZLuvOugqWKnG</td>\n",
              "      <td>0.2540</td>\n",
              "      <td>2019-10-18</td>\n",
              "    </tr>\n",
              "    <tr>\n",
              "      <th>...</th>\n",
              "      <td>...</td>\n",
              "      <td>...</td>\n",
              "      <td>...</td>\n",
              "      <td>...</td>\n",
              "      <td>...</td>\n",
              "      <td>...</td>\n",
              "      <td>...</td>\n",
              "      <td>...</td>\n",
              "      <td>...</td>\n",
              "      <td>...</td>\n",
              "      <td>...</td>\n",
              "      <td>...</td>\n",
              "      <td>...</td>\n",
              "      <td>...</td>\n",
              "      <td>...</td>\n",
              "      <td>...</td>\n",
              "      <td>...</td>\n",
              "      <td>...</td>\n",
              "      <td>...</td>\n",
              "    </tr>\n",
              "    <tr>\n",
              "      <th>1006</th>\n",
              "      <td>0.76900</td>\n",
              "      <td>https://api.spotify.com/v1/audio-analysis/3WjH...</td>\n",
              "      <td>0.685</td>\n",
              "      <td>120955</td>\n",
              "      <td>0.3890</td>\n",
              "      <td>3WjHIB7EHWBnyNShqye1RZ</td>\n",
              "      <td>0.036200</td>\n",
              "      <td>3</td>\n",
              "      <td>0.1910</td>\n",
              "      <td>-10.239</td>\n",
              "      <td>1</td>\n",
              "      <td>0.0341</td>\n",
              "      <td>109.880</td>\n",
              "      <td>4</td>\n",
              "      <td>https://api.spotify.com/v1/tracks/3WjHIB7EHWBn...</td>\n",
              "      <td>audio_features</td>\n",
              "      <td>spotify:track:3WjHIB7EHWBnyNShqye1RZ</td>\n",
              "      <td>0.5000</td>\n",
              "      <td>2021-05-15</td>\n",
              "    </tr>\n",
              "    <tr>\n",
              "      <th>1007</th>\n",
              "      <td>0.24400</td>\n",
              "      <td>https://api.spotify.com/v1/audio-analysis/6Twc...</td>\n",
              "      <td>0.774</td>\n",
              "      <td>172565</td>\n",
              "      <td>0.4850</td>\n",
              "      <td>6Twcvh5uBvLgW737fuMZ07</td>\n",
              "      <td>0.000001</td>\n",
              "      <td>6</td>\n",
              "      <td>0.0340</td>\n",
              "      <td>-7.468</td>\n",
              "      <td>0</td>\n",
              "      <td>0.2450</td>\n",
              "      <td>88.948</td>\n",
              "      <td>4</td>\n",
              "      <td>https://api.spotify.com/v1/tracks/6Twcvh5uBvLg...</td>\n",
              "      <td>audio_features</td>\n",
              "      <td>spotify:track:6Twcvh5uBvLgW737fuMZ07</td>\n",
              "      <td>0.5790</td>\n",
              "      <td>2021-05-09</td>\n",
              "    </tr>\n",
              "    <tr>\n",
              "      <th>1008</th>\n",
              "      <td>0.20700</td>\n",
              "      <td>https://api.spotify.com/v1/audio-analysis/5zV1...</td>\n",
              "      <td>0.315</td>\n",
              "      <td>236690</td>\n",
              "      <td>0.6980</td>\n",
              "      <td>5zV1rHxwFqsLq5TPxzjPAG</td>\n",
              "      <td>0.000009</td>\n",
              "      <td>11</td>\n",
              "      <td>0.0526</td>\n",
              "      <td>-6.091</td>\n",
              "      <td>0</td>\n",
              "      <td>0.0510</td>\n",
              "      <td>143.696</td>\n",
              "      <td>4</td>\n",
              "      <td>https://api.spotify.com/v1/tracks/5zV1rHxwFqsL...</td>\n",
              "      <td>audio_features</td>\n",
              "      <td>spotify:track:5zV1rHxwFqsLq5TPxzjPAG</td>\n",
              "      <td>0.2350</td>\n",
              "      <td>2021-05-16</td>\n",
              "    </tr>\n",
              "    <tr>\n",
              "      <th>1009</th>\n",
              "      <td>0.93600</td>\n",
              "      <td>https://api.spotify.com/v1/audio-analysis/05v6...</td>\n",
              "      <td>0.396</td>\n",
              "      <td>349655</td>\n",
              "      <td>0.0673</td>\n",
              "      <td>05v6R3VThUJ3uk1dfvNis4</td>\n",
              "      <td>0.004670</td>\n",
              "      <td>9</td>\n",
              "      <td>0.0895</td>\n",
              "      <td>-18.659</td>\n",
              "      <td>1</td>\n",
              "      <td>0.0381</td>\n",
              "      <td>116.074</td>\n",
              "      <td>3</td>\n",
              "      <td>https://api.spotify.com/v1/tracks/05v6R3VThUJ3...</td>\n",
              "      <td>audio_features</td>\n",
              "      <td>spotify:track:05v6R3VThUJ3uk1dfvNis4</td>\n",
              "      <td>0.0763</td>\n",
              "      <td>2021-05-24</td>\n",
              "    </tr>\n",
              "    <tr>\n",
              "      <th>1010</th>\n",
              "      <td>0.66500</td>\n",
              "      <td>https://api.spotify.com/v1/audio-analysis/0Oml...</td>\n",
              "      <td>0.475</td>\n",
              "      <td>218625</td>\n",
              "      <td>0.3720</td>\n",
              "      <td>0OmlD6PXJ7BCObfjB5VuYz</td>\n",
              "      <td>0.000514</td>\n",
              "      <td>6</td>\n",
              "      <td>0.1110</td>\n",
              "      <td>-9.186</td>\n",
              "      <td>0</td>\n",
              "      <td>0.0344</td>\n",
              "      <td>160.067</td>\n",
              "      <td>3</td>\n",
              "      <td>https://api.spotify.com/v1/tracks/0OmlD6PXJ7BC...</td>\n",
              "      <td>audio_features</td>\n",
              "      <td>spotify:track:0OmlD6PXJ7BCObfjB5VuYz</td>\n",
              "      <td>0.2410</td>\n",
              "      <td>2019-07-12</td>\n",
              "    </tr>\n",
              "  </tbody>\n",
              "</table>\n",
              "<p>1011 rows × 19 columns</p>\n",
              "</div>"
            ],
            "text/plain": [
              "      acousticness  ... release_date\n",
              "0          0.34000  ...   2020-10-20\n",
              "1          0.00663  ...   2014-08-01\n",
              "2          0.25100  ...   2016-10-11\n",
              "3          0.00602  ...   2018-08-16\n",
              "4          0.74800  ...   2019-10-18\n",
              "...            ...  ...          ...\n",
              "1006       0.76900  ...   2021-05-15\n",
              "1007       0.24400  ...   2021-05-09\n",
              "1008       0.20700  ...   2021-05-16\n",
              "1009       0.93600  ...   2021-05-24\n",
              "1010       0.66500  ...   2019-07-12\n",
              "\n",
              "[1011 rows x 19 columns]"
            ]
          },
          "metadata": {
            "tags": []
          },
          "execution_count": 7
        }
      ]
    },
    {
      "cell_type": "code",
      "metadata": {
        "id": "YGO8fwVNb75f"
      },
      "source": [
        "#for finalset checking if date values redundant\n",
        "for value in dataframe_cat['release_date'].values:\n",
        "   if type(value) is not str:\n",
        "     print(value)"
      ],
      "execution_count": 11,
      "outputs": []
    },
    {
      "cell_type": "code",
      "metadata": {
        "id": "LlmpPVkzcPnG"
      },
      "source": [
        "#Sorting values by release_date\n",
        "dataframe_cat.sort_values(by=['release_date'], inplace=True)\n",
        "dataframe_cat\n",
        "\n",
        "#Converting to year\n",
        "dataframe_cat['r_year'] =  pd.DatetimeIndex(pd.to_datetime(dataframe_cat['release_date'])).year\n"
      ],
      "execution_count": 12,
      "outputs": []
    },
    {
      "cell_type": "code",
      "metadata": {
        "id": "hvqXomxIqnjc"
      },
      "source": [
        "#Too old \n",
        "for year in dataframe_cat['r_year'].values:\n",
        "  if year < 2010:\n",
        "    dataframe_cat.drop(dataframe_cat.index[(dataframe_cat['r_year']==year)], inplace=True) \n"
      ],
      "execution_count": 14,
      "outputs": []
    },
    {
      "cell_type": "code",
      "metadata": {
        "colab": {
          "base_uri": "https://localhost:8080/",
          "height": 419
        },
        "id": "OdlGhfDHchIi",
        "outputId": "097f605f-315b-458e-c2b2-2ffe6d83cb33"
      },
      "source": [
        "#for finalset\n",
        "\n",
        "year_df_new = dataframe_cat[['acousticness','danceability',\t'energy',\t'instrumentalness',\t'liveness',\t'loudness',\t'speechiness','valence', 'r_year']].copy()\n",
        "year_df_new.reset_index(drop=True, inplace=True)\n",
        "year_df_new"
      ],
      "execution_count": 15,
      "outputs": [
        {
          "output_type": "execute_result",
          "data": {
            "text/html": [
              "<div>\n",
              "<style scoped>\n",
              "    .dataframe tbody tr th:only-of-type {\n",
              "        vertical-align: middle;\n",
              "    }\n",
              "\n",
              "    .dataframe tbody tr th {\n",
              "        vertical-align: top;\n",
              "    }\n",
              "\n",
              "    .dataframe thead th {\n",
              "        text-align: right;\n",
              "    }\n",
              "</style>\n",
              "<table border=\"1\" class=\"dataframe\">\n",
              "  <thead>\n",
              "    <tr style=\"text-align: right;\">\n",
              "      <th></th>\n",
              "      <th>acousticness</th>\n",
              "      <th>danceability</th>\n",
              "      <th>energy</th>\n",
              "      <th>instrumentalness</th>\n",
              "      <th>liveness</th>\n",
              "      <th>loudness</th>\n",
              "      <th>speechiness</th>\n",
              "      <th>valence</th>\n",
              "      <th>r_year</th>\n",
              "    </tr>\n",
              "  </thead>\n",
              "  <tbody>\n",
              "    <tr>\n",
              "      <th>0</th>\n",
              "      <td>0.07470</td>\n",
              "      <td>0.658</td>\n",
              "      <td>0.790</td>\n",
              "      <td>0.000234</td>\n",
              "      <td>0.0612</td>\n",
              "      <td>-7.382</td>\n",
              "      <td>0.0418</td>\n",
              "      <td>0.7430</td>\n",
              "      <td>2010</td>\n",
              "    </tr>\n",
              "    <tr>\n",
              "      <th>1</th>\n",
              "      <td>0.78500</td>\n",
              "      <td>0.469</td>\n",
              "      <td>0.361</td>\n",
              "      <td>0.001540</td>\n",
              "      <td>0.1040</td>\n",
              "      <td>-8.275</td>\n",
              "      <td>0.0293</td>\n",
              "      <td>0.0775</td>\n",
              "      <td>2010</td>\n",
              "    </tr>\n",
              "    <tr>\n",
              "      <th>2</th>\n",
              "      <td>0.01370</td>\n",
              "      <td>0.605</td>\n",
              "      <td>0.653</td>\n",
              "      <td>0.114000</td>\n",
              "      <td>0.1450</td>\n",
              "      <td>-6.495</td>\n",
              "      <td>0.0388</td>\n",
              "      <td>0.3790</td>\n",
              "      <td>2010</td>\n",
              "    </tr>\n",
              "    <tr>\n",
              "      <th>3</th>\n",
              "      <td>0.00493</td>\n",
              "      <td>0.520</td>\n",
              "      <td>0.897</td>\n",
              "      <td>0.000000</td>\n",
              "      <td>0.3290</td>\n",
              "      <td>-2.345</td>\n",
              "      <td>0.0416</td>\n",
              "      <td>0.3840</td>\n",
              "      <td>2010</td>\n",
              "    </tr>\n",
              "    <tr>\n",
              "      <th>4</th>\n",
              "      <td>0.00591</td>\n",
              "      <td>0.682</td>\n",
              "      <td>0.970</td>\n",
              "      <td>0.171000</td>\n",
              "      <td>0.0448</td>\n",
              "      <td>-5.332</td>\n",
              "      <td>0.0459</td>\n",
              "      <td>0.9590</td>\n",
              "      <td>2010</td>\n",
              "    </tr>\n",
              "    <tr>\n",
              "      <th>...</th>\n",
              "      <td>...</td>\n",
              "      <td>...</td>\n",
              "      <td>...</td>\n",
              "      <td>...</td>\n",
              "      <td>...</td>\n",
              "      <td>...</td>\n",
              "      <td>...</td>\n",
              "      <td>...</td>\n",
              "      <td>...</td>\n",
              "    </tr>\n",
              "    <tr>\n",
              "      <th>957</th>\n",
              "      <td>0.15500</td>\n",
              "      <td>0.644</td>\n",
              "      <td>0.313</td>\n",
              "      <td>0.000210</td>\n",
              "      <td>0.1300</td>\n",
              "      <td>-8.924</td>\n",
              "      <td>0.0908</td>\n",
              "      <td>0.3560</td>\n",
              "      <td>2021</td>\n",
              "    </tr>\n",
              "    <tr>\n",
              "      <th>958</th>\n",
              "      <td>0.78100</td>\n",
              "      <td>0.513</td>\n",
              "      <td>0.314</td>\n",
              "      <td>0.000202</td>\n",
              "      <td>0.3240</td>\n",
              "      <td>-11.744</td>\n",
              "      <td>0.0278</td>\n",
              "      <td>0.5250</td>\n",
              "      <td>2021</td>\n",
              "    </tr>\n",
              "    <tr>\n",
              "      <th>959</th>\n",
              "      <td>0.95800</td>\n",
              "      <td>0.306</td>\n",
              "      <td>0.236</td>\n",
              "      <td>0.004530</td>\n",
              "      <td>0.1110</td>\n",
              "      <td>-13.313</td>\n",
              "      <td>0.0331</td>\n",
              "      <td>0.3020</td>\n",
              "      <td>2021</td>\n",
              "    </tr>\n",
              "    <tr>\n",
              "      <th>960</th>\n",
              "      <td>0.40700</td>\n",
              "      <td>0.557</td>\n",
              "      <td>0.293</td>\n",
              "      <td>0.000672</td>\n",
              "      <td>0.0962</td>\n",
              "      <td>-13.429</td>\n",
              "      <td>0.0398</td>\n",
              "      <td>0.1330</td>\n",
              "      <td>2021</td>\n",
              "    </tr>\n",
              "    <tr>\n",
              "      <th>961</th>\n",
              "      <td>0.90400</td>\n",
              "      <td>0.546</td>\n",
              "      <td>0.170</td>\n",
              "      <td>0.001780</td>\n",
              "      <td>0.0840</td>\n",
              "      <td>-15.055</td>\n",
              "      <td>0.0310</td>\n",
              "      <td>0.1350</td>\n",
              "      <td>2021</td>\n",
              "    </tr>\n",
              "  </tbody>\n",
              "</table>\n",
              "<p>962 rows × 9 columns</p>\n",
              "</div>"
            ],
            "text/plain": [
              "     acousticness  danceability  energy  ...  speechiness  valence  r_year\n",
              "0         0.07470         0.658   0.790  ...       0.0418   0.7430    2010\n",
              "1         0.78500         0.469   0.361  ...       0.0293   0.0775    2010\n",
              "2         0.01370         0.605   0.653  ...       0.0388   0.3790    2010\n",
              "3         0.00493         0.520   0.897  ...       0.0416   0.3840    2010\n",
              "4         0.00591         0.682   0.970  ...       0.0459   0.9590    2010\n",
              "..            ...           ...     ...  ...          ...      ...     ...\n",
              "957       0.15500         0.644   0.313  ...       0.0908   0.3560    2021\n",
              "958       0.78100         0.513   0.314  ...       0.0278   0.5250    2021\n",
              "959       0.95800         0.306   0.236  ...       0.0331   0.3020    2021\n",
              "960       0.40700         0.557   0.293  ...       0.0398   0.1330    2021\n",
              "961       0.90400         0.546   0.170  ...       0.0310   0.1350    2021\n",
              "\n",
              "[962 rows x 9 columns]"
            ]
          },
          "metadata": {
            "tags": []
          },
          "execution_count": 15
        }
      ]
    },
    {
      "cell_type": "code",
      "metadata": {
        "colab": {
          "base_uri": "https://localhost:8080/",
          "height": 452
        },
        "id": "ba1wANgCLhr6",
        "outputId": "908c148d-e4ec-4bf1-92d2-3e81e29e6c7a"
      },
      "source": [
        "energy= year_df_new.groupby('r_year')\n",
        "df_energy = energy.apply(lambda x: x['energy'].mean())\n",
        "\n",
        "valence=year_df_new.groupby('r_year')\n",
        "df_valence = valence.apply(lambda x:x['valence'].mean())\n",
        "\n",
        "acousticness= year_df_new.groupby('r_year')\n",
        "df_acousticness = acousticness.apply(lambda x: x['acousticness'].mean())\n",
        "\n",
        "speechiness=year_df_new.groupby('r_year')\n",
        "df_speechiness = speechiness.apply(lambda x:x['speechiness'].mean())\n",
        "\n",
        "instrumentalness= year_df_new.groupby('r_year')\n",
        "df_instrumentalness = instrumentalness.apply(lambda x: x['instrumentalness'].mean())\n",
        "\n",
        "liveness=year_df_new.groupby('r_year')\n",
        "df_liveness = liveness.apply(lambda x:x['liveness'].mean())\n",
        "\n",
        "danceability=year_df_new.groupby('r_year') #Similar code for the rest of the features\n",
        "df_danceability= danceability.apply(lambda x:x['danceability'].mean())\n",
        "\n",
        "year=year_df_new.groupby('r_year')\n",
        "df_year= year.apply(lambda x:x['r_year'].unique())\n",
        "\n",
        "trend_df=pd.concat([df_danceability, df_acousticness, df_energy, df_instrumentalness, df_liveness, df_speechiness, df_valence, df_year], axis=1)\n",
        "\n",
        "\n",
        "\n",
        "\n",
        "trend_df.columns =['danceability','acousticness', 'energy', 'instrumentalness', 'liveness', 'speechiness', 'valence', 'r_year']\n",
        "trend_df['r_year']=trend_df['r_year'].astype(int) #converting object type to integer type for the year column\n",
        "\n",
        "trend_df\n"
      ],
      "execution_count": 16,
      "outputs": [
        {
          "output_type": "execute_result",
          "data": {
            "text/html": [
              "<div>\n",
              "<style scoped>\n",
              "    .dataframe tbody tr th:only-of-type {\n",
              "        vertical-align: middle;\n",
              "    }\n",
              "\n",
              "    .dataframe tbody tr th {\n",
              "        vertical-align: top;\n",
              "    }\n",
              "\n",
              "    .dataframe thead th {\n",
              "        text-align: right;\n",
              "    }\n",
              "</style>\n",
              "<table border=\"1\" class=\"dataframe\">\n",
              "  <thead>\n",
              "    <tr style=\"text-align: right;\">\n",
              "      <th></th>\n",
              "      <th>danceability</th>\n",
              "      <th>acousticness</th>\n",
              "      <th>energy</th>\n",
              "      <th>instrumentalness</th>\n",
              "      <th>liveness</th>\n",
              "      <th>speechiness</th>\n",
              "      <th>valence</th>\n",
              "      <th>r_year</th>\n",
              "    </tr>\n",
              "    <tr>\n",
              "      <th>r_year</th>\n",
              "      <th></th>\n",
              "      <th></th>\n",
              "      <th></th>\n",
              "      <th></th>\n",
              "      <th></th>\n",
              "      <th></th>\n",
              "      <th></th>\n",
              "      <th></th>\n",
              "    </tr>\n",
              "  </thead>\n",
              "  <tbody>\n",
              "    <tr>\n",
              "      <th>2010</th>\n",
              "      <td>0.559143</td>\n",
              "      <td>0.136291</td>\n",
              "      <td>0.702143</td>\n",
              "      <td>0.149591</td>\n",
              "      <td>0.142714</td>\n",
              "      <td>0.042871</td>\n",
              "      <td>0.460357</td>\n",
              "      <td>2010</td>\n",
              "    </tr>\n",
              "    <tr>\n",
              "      <th>2011</th>\n",
              "      <td>0.580364</td>\n",
              "      <td>0.346967</td>\n",
              "      <td>0.597455</td>\n",
              "      <td>0.071039</td>\n",
              "      <td>0.190236</td>\n",
              "      <td>0.037591</td>\n",
              "      <td>0.384091</td>\n",
              "      <td>2011</td>\n",
              "    </tr>\n",
              "    <tr>\n",
              "      <th>2012</th>\n",
              "      <td>0.495182</td>\n",
              "      <td>0.354482</td>\n",
              "      <td>0.586091</td>\n",
              "      <td>0.077099</td>\n",
              "      <td>0.096227</td>\n",
              "      <td>0.052055</td>\n",
              "      <td>0.365273</td>\n",
              "      <td>2012</td>\n",
              "    </tr>\n",
              "    <tr>\n",
              "      <th>2013</th>\n",
              "      <td>0.570967</td>\n",
              "      <td>0.304671</td>\n",
              "      <td>0.586567</td>\n",
              "      <td>0.079616</td>\n",
              "      <td>0.178527</td>\n",
              "      <td>0.050833</td>\n",
              "      <td>0.443237</td>\n",
              "      <td>2013</td>\n",
              "    </tr>\n",
              "    <tr>\n",
              "      <th>2014</th>\n",
              "      <td>0.563680</td>\n",
              "      <td>0.335689</td>\n",
              "      <td>0.558800</td>\n",
              "      <td>0.143192</td>\n",
              "      <td>0.197888</td>\n",
              "      <td>0.047616</td>\n",
              "      <td>0.370324</td>\n",
              "      <td>2014</td>\n",
              "    </tr>\n",
              "    <tr>\n",
              "      <th>2015</th>\n",
              "      <td>0.521744</td>\n",
              "      <td>0.353784</td>\n",
              "      <td>0.581946</td>\n",
              "      <td>0.289509</td>\n",
              "      <td>0.173251</td>\n",
              "      <td>0.042295</td>\n",
              "      <td>0.391215</td>\n",
              "      <td>2015</td>\n",
              "    </tr>\n",
              "    <tr>\n",
              "      <th>2016</th>\n",
              "      <td>0.572378</td>\n",
              "      <td>0.287934</td>\n",
              "      <td>0.581216</td>\n",
              "      <td>0.197888</td>\n",
              "      <td>0.138651</td>\n",
              "      <td>0.062554</td>\n",
              "      <td>0.404514</td>\n",
              "      <td>2016</td>\n",
              "    </tr>\n",
              "    <tr>\n",
              "      <th>2017</th>\n",
              "      <td>0.500955</td>\n",
              "      <td>0.429876</td>\n",
              "      <td>0.521818</td>\n",
              "      <td>0.220286</td>\n",
              "      <td>0.158100</td>\n",
              "      <td>0.068118</td>\n",
              "      <td>0.302832</td>\n",
              "      <td>2017</td>\n",
              "    </tr>\n",
              "    <tr>\n",
              "      <th>2018</th>\n",
              "      <td>0.545961</td>\n",
              "      <td>0.466096</td>\n",
              "      <td>0.476168</td>\n",
              "      <td>0.085321</td>\n",
              "      <td>0.139034</td>\n",
              "      <td>0.061920</td>\n",
              "      <td>0.355775</td>\n",
              "      <td>2018</td>\n",
              "    </tr>\n",
              "    <tr>\n",
              "      <th>2019</th>\n",
              "      <td>0.554278</td>\n",
              "      <td>0.502131</td>\n",
              "      <td>0.461868</td>\n",
              "      <td>0.133214</td>\n",
              "      <td>0.155292</td>\n",
              "      <td>0.068296</td>\n",
              "      <td>0.370533</td>\n",
              "      <td>2019</td>\n",
              "    </tr>\n",
              "    <tr>\n",
              "      <th>2020</th>\n",
              "      <td>0.565388</td>\n",
              "      <td>0.507568</td>\n",
              "      <td>0.464536</td>\n",
              "      <td>0.092526</td>\n",
              "      <td>0.166836</td>\n",
              "      <td>0.053169</td>\n",
              "      <td>0.363679</td>\n",
              "      <td>2020</td>\n",
              "    </tr>\n",
              "    <tr>\n",
              "      <th>2021</th>\n",
              "      <td>0.563155</td>\n",
              "      <td>0.513150</td>\n",
              "      <td>0.450718</td>\n",
              "      <td>0.048143</td>\n",
              "      <td>0.163298</td>\n",
              "      <td>0.063089</td>\n",
              "      <td>0.370708</td>\n",
              "      <td>2021</td>\n",
              "    </tr>\n",
              "  </tbody>\n",
              "</table>\n",
              "</div>"
            ],
            "text/plain": [
              "        danceability  acousticness    energy  ...  speechiness   valence  r_year\n",
              "r_year                                        ...                               \n",
              "2010        0.559143      0.136291  0.702143  ...     0.042871  0.460357    2010\n",
              "2011        0.580364      0.346967  0.597455  ...     0.037591  0.384091    2011\n",
              "2012        0.495182      0.354482  0.586091  ...     0.052055  0.365273    2012\n",
              "2013        0.570967      0.304671  0.586567  ...     0.050833  0.443237    2013\n",
              "2014        0.563680      0.335689  0.558800  ...     0.047616  0.370324    2014\n",
              "2015        0.521744      0.353784  0.581946  ...     0.042295  0.391215    2015\n",
              "2016        0.572378      0.287934  0.581216  ...     0.062554  0.404514    2016\n",
              "2017        0.500955      0.429876  0.521818  ...     0.068118  0.302832    2017\n",
              "2018        0.545961      0.466096  0.476168  ...     0.061920  0.355775    2018\n",
              "2019        0.554278      0.502131  0.461868  ...     0.068296  0.370533    2019\n",
              "2020        0.565388      0.507568  0.464536  ...     0.053169  0.363679    2020\n",
              "2021        0.563155      0.513150  0.450718  ...     0.063089  0.370708    2021\n",
              "\n",
              "[12 rows x 8 columns]"
            ]
          },
          "metadata": {
            "tags": []
          },
          "execution_count": 16
        }
      ]
    },
    {
      "cell_type": "code",
      "metadata": {
        "colab": {
          "base_uri": "https://localhost:8080/",
          "height": 265
        },
        "id": "89WIG-hyvemL",
        "outputId": "1e0c13b6-66fa-47b9-92fc-951159b139b9"
      },
      "source": [
        "plt.plot(trend_df['r_year'], trend_df['acousticness'], label='Acousticness')\n",
        "plt.plot(trend_df['r_year'], trend_df['energy'], label='Energy')\n",
        "plt.plot(trend_df['r_year'], trend_df['liveness'], label='Liveness')\n",
        "plt.plot(trend_df['r_year'], trend_df['speechiness'], label='Speechiness')\n",
        "plt.plot(trend_df['r_year'], trend_df['instrumentalness'], label='Instrumentalness')\n",
        "plt.plot(trend_df['r_year'], trend_df['danceability'], label='Danceability')\n",
        "plt.plot(trend_df['r_year'], trend_df['valence'], label='Valence')\n",
        "\n",
        "\n",
        "plt.legend(bbox_to_anchor=(1.04,1), borderaxespad=0)\n",
        "plt.show()\n",
        "\n",
        "#try getting mean values for all the years and plot feature vs year"
      ],
      "execution_count": 18,
      "outputs": [
        {
          "output_type": "display_data",
          "data": {
            "image/png": "[encoded data removed]",
            "text/plain": [
              "<Figure size 432x288 with 1 Axes>"
            ]
          },
          "metadata": {
            "tags": [],
            "needs_background": "light"
          }
        }
      ]
    },
    {
      "cell_type": "code",
      "metadata": {
        "colab": {
          "base_uri": "https://localhost:8080/"
        },
        "id": "Gm49yNpcseyb",
        "outputId": "b0c8c2dc-401b-471d-d755-65f79d9d93ed"
      },
      "source": [
        "#creating minutes column\n",
        "def mstomin(millis):\n",
        "  #minlist=[]\n",
        "  #for millis in arr:\n",
        "  millis = int(millis)\n",
        "  seconds=(millis/1000)%60\n",
        "  seconds = int(seconds)\n",
        "  minutes=(millis/(1000*60))%60\n",
        "  minutes = int(minutes)\n",
        "  \n",
        "  string_time=(\"%d:%d\" % (minutes, seconds))\n",
        "  min= datetime.datetime.strptime(string_time, '%M:%S')\n",
        "  t1 = pd.Timestamp(min).minute\n",
        "   \n",
        "  return t1\n",
        "\n",
        "mstomin2= np.vectorize(mstomin) #so 'only size-1 arrays can be converted to Python scalars' doesn't occur\n",
        "dataframe_cat['minutes']= mstomin2(dataframe_cat['duration_ms'].values)\n",
        "\n",
        "dataframe_cat['minutes']"
      ],
      "execution_count": 17,
      "outputs": [
        {
          "output_type": "execute_result",
          "data": {
            "text/plain": [
              "857    4\n",
              "190    4\n",
              "10     6\n",
              "243    2\n",
              "121    4\n",
              "      ..\n",
              "968    2\n",
              "877    4\n",
              "912    3\n",
              "595    4\n",
              "588    3\n",
              "Name: minutes, Length: 962, dtype: int64"
            ]
          },
          "metadata": {
            "tags": []
          },
          "execution_count": 17
        }
      ]
    },
    {
      "cell_type": "code",
      "metadata": {
        "colab": {
          "base_uri": "https://localhost:8080/",
          "height": 265
        },
        "id": "D0SRUSuj_TF5",
        "outputId": "78a2fdad-f4b0-4861-f46c-912e1c90cb4e"
      },
      "source": [
        "#duration trend\n",
        "min_y=dataframe_cat.groupby('r_year')['minutes'].mean()\n",
        "tempo=dataframe_cat.groupby('r_year')['tempo'].mean()\n",
        "r_year=dataframe_cat.groupby('r_year')['r_year'].mean()\n",
        "\n",
        "dframe2=pd.concat([min_y, tempo, r_year], axis=1)\n",
        "dframe2.columns =['min_y','tempo', 'r_year']\n",
        "dframe2['r_year']=dframe2['r_year'].astype(int)\n",
        "\n",
        "for year in dframe2['r_year'].values:\n",
        "  if year < 2014:\n",
        "    dframe2.drop(dframe2.index[(dframe2['r_year']==year)], inplace=True)\n",
        "\n",
        "plt.plot(dframe2['r_year'], dframe2['min_y'], label='Minutes')\n",
        "\n",
        "plt.legend()\n",
        "plt.show()\n"
      ],
      "execution_count": 19,
      "outputs": [
        {
          "output_type": "display_data",
          "data": {
            "image/png": "[encoded data removed]",
            "text/plain": [
              "<Figure size 432x288 with 1 Axes>"
            ]
          },
          "metadata": {
            "tags": [],
            "needs_background": "light"
          }
        }
      ]
    },
    {
      "cell_type": "code",
      "metadata": {
        "colab": {
          "base_uri": "https://localhost:8080/",
          "height": 269
        },
        "id": "9ka3dUMV0J3b",
        "outputId": "ecfcb255-bfe2-4dd6-bebd-954268e40bbc"
      },
      "source": [
        "#Trend in tempo\n",
        "\n",
        "plt.plot(dframe2['r_year'], dframe2['tempo'], label='Tempo')\n",
        "\n",
        "plt.ylim(100, 140)\n",
        "plt.legend()\n",
        "plt.show()  \n"
      ],
      "execution_count": 20,
      "outputs": [
        {
          "output_type": "display_data",
          "data": {
            "image/png": "[encoded data removed]",
            "text/plain": [
              "<Figure size 432x288 with 1 Axes>"
            ]
          },
          "metadata": {
            "tags": [],
            "needs_background": "light"
          }
        }
      ]
    },
    {
      "cell_type": "code",
      "metadata": {
        "id": "gnAIzRLnyrzd"
      },
      "source": [
        "df_feature_only = dataframe_cat.drop(['analysis_url', 'duration_ms', 'id', 'key','tempo', 'mode', 'time_signature', 'track_href', 'type', 'uri', 'release_date' ], axis= 1)\n"
      ],
      "execution_count": 21,
      "outputs": []
    },
    {
      "cell_type": "code",
      "metadata": {
        "id": "RwdrJJ6IX3c1",
        "colab": {
          "base_uri": "https://localhost:8080/",
          "height": 419
        },
        "outputId": "ad21bbc4-9519-4857-cc3b-4300810af1e7"
      },
      "source": [
        "#normalizing data \n",
        "from sklearn import preprocessing\n",
        "scaler = preprocessing.MinMaxScaler()\n",
        "df_final = scaler.fit_transform(df_feature_only)\n",
        "df_final = pd.DataFrame(df_final)\n",
        "df_final.columns = df_feature_only.columns\n",
        "df_final.drop(labels=['r_year', 'minutes', 'loudness'],axis=1, inplace=True)\n",
        "df_final"
      ],
      "execution_count": 22,
      "outputs": [
        {
          "output_type": "execute_result",
          "data": {
            "text/html": [
              "<div>\n",
              "<style scoped>\n",
              "    .dataframe tbody tr th:only-of-type {\n",
              "        vertical-align: middle;\n",
              "    }\n",
              "\n",
              "    .dataframe tbody tr th {\n",
              "        vertical-align: top;\n",
              "    }\n",
              "\n",
              "    .dataframe thead th {\n",
              "        text-align: right;\n",
              "    }\n",
              "</style>\n",
              "<table border=\"1\" class=\"dataframe\">\n",
              "  <thead>\n",
              "    <tr style=\"text-align: right;\">\n",
              "      <th></th>\n",
              "      <th>acousticness</th>\n",
              "      <th>danceability</th>\n",
              "      <th>energy</th>\n",
              "      <th>instrumentalness</th>\n",
              "      <th>liveness</th>\n",
              "      <th>speechiness</th>\n",
              "      <th>valence</th>\n",
              "    </tr>\n",
              "  </thead>\n",
              "  <tbody>\n",
              "    <tr>\n",
              "      <th>0</th>\n",
              "      <td>0.075079</td>\n",
              "      <td>0.650035</td>\n",
              "      <td>0.797503</td>\n",
              "      <td>0.000246</td>\n",
              "      <td>0.036230</td>\n",
              "      <td>0.031723</td>\n",
              "      <td>0.762954</td>\n",
              "    </tr>\n",
              "    <tr>\n",
              "      <th>1</th>\n",
              "      <td>0.789722</td>\n",
              "      <td>0.431739</td>\n",
              "      <td>0.347393</td>\n",
              "      <td>0.001616</td>\n",
              "      <td>0.081971</td>\n",
              "      <td>0.009193</td>\n",
              "      <td>0.064926</td>\n",
              "    </tr>\n",
              "    <tr>\n",
              "      <th>2</th>\n",
              "      <td>0.013706</td>\n",
              "      <td>0.588820</td>\n",
              "      <td>0.653761</td>\n",
              "      <td>0.119622</td>\n",
              "      <td>0.125788</td>\n",
              "      <td>0.026316</td>\n",
              "      <td>0.381162</td>\n",
              "    </tr>\n",
              "    <tr>\n",
              "      <th>3</th>\n",
              "      <td>0.004882</td>\n",
              "      <td>0.490644</td>\n",
              "      <td>0.909768</td>\n",
              "      <td>0.000000</td>\n",
              "      <td>0.322432</td>\n",
              "      <td>0.031363</td>\n",
              "      <td>0.386407</td>\n",
              "    </tr>\n",
              "    <tr>\n",
              "      <th>4</th>\n",
              "      <td>0.005868</td>\n",
              "      <td>0.677755</td>\n",
              "      <td>0.986360</td>\n",
              "      <td>0.179433</td>\n",
              "      <td>0.018703</td>\n",
              "      <td>0.039113</td>\n",
              "      <td>0.989511</td>\n",
              "    </tr>\n",
              "    <tr>\n",
              "      <th>...</th>\n",
              "      <td>...</td>\n",
              "      <td>...</td>\n",
              "      <td>...</td>\n",
              "      <td>...</td>\n",
              "      <td>...</td>\n",
              "      <td>...</td>\n",
              "      <td>...</td>\n",
              "    </tr>\n",
              "    <tr>\n",
              "      <th>957</th>\n",
              "      <td>0.155870</td>\n",
              "      <td>0.633865</td>\n",
              "      <td>0.297031</td>\n",
              "      <td>0.000220</td>\n",
              "      <td>0.109757</td>\n",
              "      <td>0.120043</td>\n",
              "      <td>0.357038</td>\n",
              "    </tr>\n",
              "    <tr>\n",
              "      <th>958</th>\n",
              "      <td>0.785698</td>\n",
              "      <td>0.482559</td>\n",
              "      <td>0.298080</td>\n",
              "      <td>0.000212</td>\n",
              "      <td>0.317089</td>\n",
              "      <td>0.006489</td>\n",
              "      <td>0.534298</td>\n",
              "    </tr>\n",
              "    <tr>\n",
              "      <th>959</th>\n",
              "      <td>0.963780</td>\n",
              "      <td>0.243474</td>\n",
              "      <td>0.216242</td>\n",
              "      <td>0.004753</td>\n",
              "      <td>0.089452</td>\n",
              "      <td>0.016042</td>\n",
              "      <td>0.300399</td>\n",
              "    </tr>\n",
              "    <tr>\n",
              "      <th>960</th>\n",
              "      <td>0.409411</td>\n",
              "      <td>0.533380</td>\n",
              "      <td>0.276047</td>\n",
              "      <td>0.000705</td>\n",
              "      <td>0.073635</td>\n",
              "      <td>0.028118</td>\n",
              "      <td>0.123138</td>\n",
              "    </tr>\n",
              "    <tr>\n",
              "      <th>961</th>\n",
              "      <td>0.909450</td>\n",
              "      <td>0.520675</td>\n",
              "      <td>0.146994</td>\n",
              "      <td>0.001868</td>\n",
              "      <td>0.060596</td>\n",
              "      <td>0.012257</td>\n",
              "      <td>0.125236</td>\n",
              "    </tr>\n",
              "  </tbody>\n",
              "</table>\n",
              "<p>962 rows × 7 columns</p>\n",
              "</div>"
            ],
            "text/plain": [
              "     acousticness  danceability    energy  ...  liveness  speechiness   valence\n",
              "0        0.075079      0.650035  0.797503  ...  0.036230     0.031723  0.762954\n",
              "1        0.789722      0.431739  0.347393  ...  0.081971     0.009193  0.064926\n",
              "2        0.013706      0.588820  0.653761  ...  0.125788     0.026316  0.381162\n",
              "3        0.004882      0.490644  0.909768  ...  0.322432     0.031363  0.386407\n",
              "4        0.005868      0.677755  0.986360  ...  0.018703     0.039113  0.989511\n",
              "..            ...           ...       ...  ...       ...          ...       ...\n",
              "957      0.155870      0.633865  0.297031  ...  0.109757     0.120043  0.357038\n",
              "958      0.785698      0.482559  0.298080  ...  0.317089     0.006489  0.534298\n",
              "959      0.963780      0.243474  0.216242  ...  0.089452     0.016042  0.300399\n",
              "960      0.409411      0.533380  0.276047  ...  0.073635     0.028118  0.123138\n",
              "961      0.909450      0.520675  0.146994  ...  0.060596     0.012257  0.125236\n",
              "\n",
              "[962 rows x 7 columns]"
            ]
          },
          "metadata": {
            "tags": []
          },
          "execution_count": 22
        }
      ]
    },
    {
      "cell_type": "code",
      "metadata": {
        "colab": {
          "base_uri": "https://localhost:8080/",
          "height": 349
        },
        "id": "VFyMDHqYXVhm",
        "outputId": "114649c2-e8e9-437a-f7cf-9486394e68e9"
      },
      "source": [
        "#Bar graph showing means \n",
        "\n",
        "plt.bar(df_final.columns, df_final.mean())\n",
        "plt.xticks(rotation=40, horizontalalignment='right')\n",
        "\n",
        "plt.xlabel('Audio Features')\n",
        "plt.ylabel('Mean')\n",
        "plt.title('Mean values of Audio Features')\n",
        "\n",
        "plt.ylim(0, 0.60)\n",
        "\n",
        "plt.show()\n"
      ],
      "execution_count": 24,
      "outputs": [
        {
          "output_type": "display_data",
          "data": {
            "image/png": "[encoded data removed]",
            "text/plain": [
              "<Figure size 432x288 with 1 Axes>"
            ]
          },
          "metadata": {
            "tags": [],
            "needs_background": "light"
          }
        }
      ]
    },
    {
      "cell_type": "code",
      "metadata": {
        "colab": {
          "base_uri": "https://localhost:8080/",
          "height": 349
        },
        "id": "JURTOOS7Ym31",
        "outputId": "91efc071-a65a-45d2-ca36-099e3954514c"
      },
      "source": [
        "#bar graph showing standard deviations\n",
        "plt.bar(df_final.columns, df_final.std())\n",
        "plt.xticks(rotation=40, horizontalalignment='right')\n",
        "\n",
        "plt.xlabel('Audio Features')\n",
        "plt.ylabel('Standard Deviation')\n",
        "plt.title('Standard Deviations of Audio Features')\n",
        "plt.ylim(0, 0.40)\n",
        "\n",
        "plt.show()\n",
        "\n",
        "#Most consistent "
      ],
      "execution_count": 25,
      "outputs": [
        {
          "output_type": "display_data",
          "data": {
            "image/png": "[encoded data removed]",
            "text/plain": [
              "<Figure size 432x288 with 1 Axes>"
            ]
          },
          "metadata": {
            "tags": [],
            "needs_background": "light"
          }
        }
      ]
    },
    {
      "cell_type": "code",
      "metadata": {
        "colab": {
          "base_uri": "https://localhost:8080/",
          "height": 340
        },
        "id": "Jjd0RQ0vZBH2",
        "outputId": "ddf03286-577b-4c46-9a34-8bc66f8b3ed6"
      },
      "source": [
        "corr_mat= df_final.corr()\n",
        "hmap= sns.heatmap(corr_mat,annot = True,\n",
        "            vmin=-1, vmax=1, center=0,\n",
        "           cmap=sns.diverging_palette(20, 220, n=200),\n",
        "           #square=True\n",
        "            )\n",
        "hmap.set_xticklabels(\n",
        "    hmap.get_xticklabels(),\n",
        "    rotation= 45,\n",
        "    horizontalalignment='right'\n",
        ");\n",
        "\n",
        "plt.title('Correlation Matrix of Audio Features')\n",
        "plt.show()\n",
        "\n",
        "#strong correlations:\n",
        "#1. Acousticness and Energy\n",
        "#2. Acousticness and Loudness\n",
        "#3. Danceability and valence\n",
        "#4. Energy and Loudness\n",
        "#5. Valence and Energy (moderate)"
      ],
      "execution_count": 26,
      "outputs": [
        {
          "output_type": "display_data",
          "data": {
            "image/png": "[encoded data removed]",
            "text/plain": [
              "<Figure size 432x288 with 2 Axes>"
            ]
          },
          "metadata": {
            "tags": [],
            "needs_background": "light"
          }
        }
      ]
    }
  ]
}